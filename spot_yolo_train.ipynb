{
  "nbformat": 4,
  "nbformat_minor": 0,
  "metadata": {
    "colab": {
      "name": "Copy of spot_yolo_train.ipynb",
      "provenance": [],
      "collapsed_sections": [],
      "authorship_tag": "ABX9TyN8Vx0t7VYqBQzH18aP0lUI",
      "include_colab_link": true
    },
    "kernelspec": {
      "name": "python3",
      "display_name": "Python 3"
    },
    "language_info": {
      "name": "python"
    },
    "accelerator": "GPU"
  },
  "cells": [
    {
      "cell_type": "markdown",
      "metadata": {
        "id": "view-in-github",
        "colab_type": "text"
      },
      "source": [
        "<a href=\"https://colab.research.google.com/github/tsc98/Spot/blob/master/spot_yolo_train.ipynb\" target=\"_parent\"><img src=\"https://colab.research.google.com/assets/colab-badge.svg\" alt=\"Open In Colab\"/></a>"
      ]
    },
    {
      "cell_type": "code",
      "execution_count": null,
      "metadata": {
        "id": "F3A-m2jeVsOA"
      },
      "outputs": [],
      "source": [
        ""
      ]
    },
    {
      "cell_type": "code",
      "source": [
        ""
      ],
      "metadata": {
        "id": "YRSsm-2qYEk8"
      },
      "execution_count": null,
      "outputs": []
    },
    {
      "cell_type": "markdown",
      "source": [
        "Install Yolov5"
      ],
      "metadata": {
        "id": "ItS2iBvbXSK5"
      }
    },
    {
      "cell_type": "code",
      "source": [
        "# clone YOLOv5 repository\n",
        "!git clone https://github.com/ultralytics/yolov5  # clone repo\n",
        "%cd yolov5\n",
        "!git reset --hard 886f1c03d839575afecb059accf74296fad395b6"
      ],
      "metadata": {
        "id": "GnDF3SoHXXKv",
        "outputId": "3cb49c6e-e345-4c65-c349-c8d8b1da268b",
        "colab": {
          "base_uri": "https://localhost:8080/"
        }
      },
      "execution_count": null,
      "outputs": [
        {
          "output_type": "stream",
          "name": "stdout",
          "text": [
            "Cloning into 'yolov5'...\n",
            "remote: Enumerating objects: 10923, done.\u001b[K\n",
            "remote: Total 10923 (delta 0), reused 0 (delta 0), pack-reused 10923\u001b[K\n",
            "Receiving objects: 100% (10923/10923), 11.01 MiB | 13.92 MiB/s, done.\n",
            "Resolving deltas: 100% (7549/7549), done.\n",
            "/content/yolov5\n",
            "HEAD is now at 886f1c0 DDP after autoanchor reorder (#2421)\n"
          ]
        }
      ]
    },
    {
      "cell_type": "markdown",
      "source": [
        "# Import statements"
      ],
      "metadata": {
        "id": "xk0EG8gwWa-L"
      }
    },
    {
      "cell_type": "code",
      "source": [
        "# install dependencies as necessary\n",
        "!pip install -qr requirements.txt  # install dependencies (ignore errors)\n",
        "import torch\n",
        "\n",
        "from IPython.display import Image, clear_output  # to display images\n",
        "from utils.google_utils import gdrive_download  # to download models/datasets\n",
        "\n",
        "# clear_output()\n",
        "print('Setup complete. Using torch %s %s' % (torch.__version__, torch.cuda.get_device_properties(0) if torch.cuda.is_available() else 'CPU'))"
      ],
      "metadata": {
        "colab": {
          "base_uri": "https://localhost:8080/"
        },
        "id": "3yW-w3bAcTIk",
        "outputId": "6cd32807-526b-4c32-824a-215e2fed2d94"
      },
      "execution_count": null,
      "outputs": [
        {
          "output_type": "stream",
          "name": "stdout",
          "text": [
            "\u001b[?25l\r\u001b[K     |▌                               | 10 kB 21.0 MB/s eta 0:00:01\r\u001b[K     |█                               | 20 kB 13.8 MB/s eta 0:00:01\r\u001b[K     |█▋                              | 30 kB 10.2 MB/s eta 0:00:01\r\u001b[K     |██▏                             | 40 kB 4.8 MB/s eta 0:00:01\r\u001b[K     |██▊                             | 51 kB 4.7 MB/s eta 0:00:01\r\u001b[K     |███▎                            | 61 kB 5.5 MB/s eta 0:00:01\r\u001b[K     |███▉                            | 71 kB 6.0 MB/s eta 0:00:01\r\u001b[K     |████▍                           | 81 kB 5.6 MB/s eta 0:00:01\r\u001b[K     |█████                           | 92 kB 6.2 MB/s eta 0:00:01\r\u001b[K     |█████▌                          | 102 kB 5.4 MB/s eta 0:00:01\r\u001b[K     |██████                          | 112 kB 5.4 MB/s eta 0:00:01\r\u001b[K     |██████▋                         | 122 kB 5.4 MB/s eta 0:00:01\r\u001b[K     |███████▏                        | 133 kB 5.4 MB/s eta 0:00:01\r\u001b[K     |███████▊                        | 143 kB 5.4 MB/s eta 0:00:01\r\u001b[K     |████████▎                       | 153 kB 5.4 MB/s eta 0:00:01\r\u001b[K     |████████▉                       | 163 kB 5.4 MB/s eta 0:00:01\r\u001b[K     |█████████▍                      | 174 kB 5.4 MB/s eta 0:00:01\r\u001b[K     |██████████                      | 184 kB 5.4 MB/s eta 0:00:01\r\u001b[K     |██████████▍                     | 194 kB 5.4 MB/s eta 0:00:01\r\u001b[K     |███████████                     | 204 kB 5.4 MB/s eta 0:00:01\r\u001b[K     |███████████▌                    | 215 kB 5.4 MB/s eta 0:00:01\r\u001b[K     |████████████                    | 225 kB 5.4 MB/s eta 0:00:01\r\u001b[K     |████████████▋                   | 235 kB 5.4 MB/s eta 0:00:01\r\u001b[K     |█████████████▏                  | 245 kB 5.4 MB/s eta 0:00:01\r\u001b[K     |█████████████▊                  | 256 kB 5.4 MB/s eta 0:00:01\r\u001b[K     |██████████████▎                 | 266 kB 5.4 MB/s eta 0:00:01\r\u001b[K     |██████████████▉                 | 276 kB 5.4 MB/s eta 0:00:01\r\u001b[K     |███████████████▍                | 286 kB 5.4 MB/s eta 0:00:01\r\u001b[K     |████████████████                | 296 kB 5.4 MB/s eta 0:00:01\r\u001b[K     |████████████████▌               | 307 kB 5.4 MB/s eta 0:00:01\r\u001b[K     |█████████████████               | 317 kB 5.4 MB/s eta 0:00:01\r\u001b[K     |█████████████████▋              | 327 kB 5.4 MB/s eta 0:00:01\r\u001b[K     |██████████████████▏             | 337 kB 5.4 MB/s eta 0:00:01\r\u001b[K     |██████████████████▊             | 348 kB 5.4 MB/s eta 0:00:01\r\u001b[K     |███████████████████▎            | 358 kB 5.4 MB/s eta 0:00:01\r\u001b[K     |███████████████████▉            | 368 kB 5.4 MB/s eta 0:00:01\r\u001b[K     |████████████████████▍           | 378 kB 5.4 MB/s eta 0:00:01\r\u001b[K     |████████████████████▉           | 389 kB 5.4 MB/s eta 0:00:01\r\u001b[K     |█████████████████████▍          | 399 kB 5.4 MB/s eta 0:00:01\r\u001b[K     |██████████████████████          | 409 kB 5.4 MB/s eta 0:00:01\r\u001b[K     |██████████████████████▌         | 419 kB 5.4 MB/s eta 0:00:01\r\u001b[K     |███████████████████████         | 430 kB 5.4 MB/s eta 0:00:01\r\u001b[K     |███████████████████████▋        | 440 kB 5.4 MB/s eta 0:00:01\r\u001b[K     |████████████████████████▏       | 450 kB 5.4 MB/s eta 0:00:01\r\u001b[K     |████████████████████████▊       | 460 kB 5.4 MB/s eta 0:00:01\r\u001b[K     |█████████████████████████▎      | 471 kB 5.4 MB/s eta 0:00:01\r\u001b[K     |█████████████████████████▉      | 481 kB 5.4 MB/s eta 0:00:01\r\u001b[K     |██████████████████████████▍     | 491 kB 5.4 MB/s eta 0:00:01\r\u001b[K     |███████████████████████████     | 501 kB 5.4 MB/s eta 0:00:01\r\u001b[K     |███████████████████████████▌    | 512 kB 5.4 MB/s eta 0:00:01\r\u001b[K     |████████████████████████████    | 522 kB 5.4 MB/s eta 0:00:01\r\u001b[K     |████████████████████████████▋   | 532 kB 5.4 MB/s eta 0:00:01\r\u001b[K     |█████████████████████████████▏  | 542 kB 5.4 MB/s eta 0:00:01\r\u001b[K     |█████████████████████████████▊  | 552 kB 5.4 MB/s eta 0:00:01\r\u001b[K     |██████████████████████████████▎ | 563 kB 5.4 MB/s eta 0:00:01\r\u001b[K     |██████████████████████████████▊ | 573 kB 5.4 MB/s eta 0:00:01\r\u001b[K     |███████████████████████████████▎| 583 kB 5.4 MB/s eta 0:00:01\r\u001b[K     |███████████████████████████████▉| 593 kB 5.4 MB/s eta 0:00:01\r\u001b[K     |████████████████████████████████| 596 kB 5.4 MB/s \n",
            "\u001b[?25hSetup complete. Using torch 1.10.0+cu111 _CudaDeviceProperties(name='Tesla K80', major=3, minor=7, total_memory=11441MB, multi_processor_count=13)\n"
          ]
        }
      ]
    },
    {
      "cell_type": "code",
      "source": [
        "!pip install roboflow\n",
        "\n",
        "from roboflow import Roboflow\n",
        "rf = Roboflow(api_key=\"ALycEeKDNoRH0800HF2T\")\n",
        "project = rf.workspace(\"new-workspace-pz40u\").project(\"spott\")\n",
        "dataset = project.version(1).download(\"yolov5\")"
      ],
      "metadata": {
        "colab": {
          "base_uri": "https://localhost:8080/",
          "height": 1000
        },
        "id": "QldashzoaUtB",
        "outputId": "acf72f6c-8551-4c20-8a14-3d3374755276"
      },
      "execution_count": null,
      "outputs": [
        {
          "output_type": "stream",
          "name": "stdout",
          "text": [
            "Collecting roboflow\n",
            "  Downloading roboflow-0.2.2-py3-none-any.whl (24 kB)\n",
            "Collecting cycler==0.10.0\n",
            "  Downloading cycler-0.10.0-py2.py3-none-any.whl (6.5 kB)\n",
            "Requirement already satisfied: opencv-python>=4.1.2 in /usr/local/lib/python3.7/dist-packages (from roboflow) (4.1.2.30)\n",
            "Requirement already satisfied: PyYAML>=5.3.1 in /usr/local/lib/python3.7/dist-packages (from roboflow) (6.0)\n",
            "Collecting chardet==4.0.0\n",
            "  Downloading chardet-4.0.0-py2.py3-none-any.whl (178 kB)\n",
            "\u001b[K     |████████████████████████████████| 178 kB 8.2 MB/s \n",
            "\u001b[?25hRequirement already satisfied: Pillow>=7.1.2 in /usr/local/lib/python3.7/dist-packages (from roboflow) (7.1.2)\n",
            "Collecting python-dotenv\n",
            "  Downloading python_dotenv-0.19.2-py2.py3-none-any.whl (17 kB)\n",
            "Requirement already satisfied: idna==2.10 in /usr/local/lib/python3.7/dist-packages (from roboflow) (2.10)\n",
            "Collecting certifi==2021.5.30\n",
            "  Downloading certifi-2021.5.30-py2.py3-none-any.whl (145 kB)\n",
            "\u001b[K     |████████████████████████████████| 145 kB 40.8 MB/s \n",
            "\u001b[?25hRequirement already satisfied: requests in /usr/local/lib/python3.7/dist-packages (from roboflow) (2.23.0)\n",
            "Requirement already satisfied: six in /usr/local/lib/python3.7/dist-packages (from roboflow) (1.15.0)\n",
            "Requirement already satisfied: tqdm>=4.41.0 in /usr/local/lib/python3.7/dist-packages (from roboflow) (4.62.3)\n",
            "Requirement already satisfied: matplotlib in /usr/local/lib/python3.7/dist-packages (from roboflow) (3.2.2)\n",
            "Requirement already satisfied: numpy>=1.18.5 in /usr/local/lib/python3.7/dist-packages (from roboflow) (1.21.5)\n",
            "Requirement already satisfied: python-dateutil in /usr/local/lib/python3.7/dist-packages (from roboflow) (2.8.2)\n",
            "Collecting urllib3==1.26.6\n",
            "  Downloading urllib3-1.26.6-py2.py3-none-any.whl (138 kB)\n",
            "\u001b[K     |████████████████████████████████| 138 kB 40.7 MB/s \n",
            "\u001b[?25hCollecting kiwisolver==1.3.1\n",
            "  Downloading kiwisolver-1.3.1-cp37-cp37m-manylinux1_x86_64.whl (1.1 MB)\n",
            "\u001b[K     |████████████████████████████████| 1.1 MB 41.2 MB/s \n",
            "\u001b[?25hCollecting pyparsing==2.4.7\n",
            "  Downloading pyparsing-2.4.7-py2.py3-none-any.whl (67 kB)\n",
            "\u001b[K     |████████████████████████████████| 67 kB 5.9 MB/s \n",
            "\u001b[?25hCollecting wget\n",
            "  Downloading wget-3.2.zip (10 kB)\n",
            "Collecting requests\n",
            "  Downloading requests-2.27.1-py2.py3-none-any.whl (63 kB)\n",
            "\u001b[K     |████████████████████████████████| 63 kB 1.5 MB/s \n",
            "\u001b[?25hRequirement already satisfied: charset-normalizer~=2.0.0 in /usr/local/lib/python3.7/dist-packages (from requests->roboflow) (2.0.11)\n",
            "Building wheels for collected packages: wget\n",
            "  Building wheel for wget (setup.py) ... \u001b[?25l\u001b[?25hdone\n",
            "  Created wheel for wget: filename=wget-3.2-py3-none-any.whl size=9675 sha256=3c7b17320e541d723c36f30a06ebd55bedd44dcbc4ffbb4e3cc377689cd61e3e\n",
            "  Stored in directory: /root/.cache/pip/wheels/a1/b6/7c/0e63e34eb06634181c63adacca38b79ff8f35c37e3c13e3c02\n",
            "Successfully built wget\n",
            "Installing collected packages: urllib3, pyparsing, kiwisolver, cycler, certifi, wget, requests, python-dotenv, chardet, roboflow\n",
            "  Attempting uninstall: urllib3\n",
            "    Found existing installation: urllib3 1.24.3\n",
            "    Uninstalling urllib3-1.24.3:\n",
            "      Successfully uninstalled urllib3-1.24.3\n",
            "  Attempting uninstall: pyparsing\n",
            "    Found existing installation: pyparsing 3.0.7\n",
            "    Uninstalling pyparsing-3.0.7:\n",
            "      Successfully uninstalled pyparsing-3.0.7\n",
            "  Attempting uninstall: kiwisolver\n",
            "    Found existing installation: kiwisolver 1.3.2\n",
            "    Uninstalling kiwisolver-1.3.2:\n",
            "      Successfully uninstalled kiwisolver-1.3.2\n",
            "  Attempting uninstall: cycler\n",
            "    Found existing installation: cycler 0.11.0\n",
            "    Uninstalling cycler-0.11.0:\n",
            "      Successfully uninstalled cycler-0.11.0\n",
            "  Attempting uninstall: certifi\n",
            "    Found existing installation: certifi 2021.10.8\n",
            "    Uninstalling certifi-2021.10.8:\n",
            "      Successfully uninstalled certifi-2021.10.8\n",
            "  Attempting uninstall: requests\n",
            "    Found existing installation: requests 2.23.0\n",
            "    Uninstalling requests-2.23.0:\n",
            "      Successfully uninstalled requests-2.23.0\n",
            "  Attempting uninstall: chardet\n",
            "    Found existing installation: chardet 3.0.4\n",
            "    Uninstalling chardet-3.0.4:\n",
            "      Successfully uninstalled chardet-3.0.4\n",
            "\u001b[31mERROR: pip's dependency resolver does not currently take into account all the packages that are installed. This behaviour is the source of the following dependency conflicts.\n",
            "google-colab 1.0.0 requires requests~=2.23.0, but you have requests 2.27.1 which is incompatible.\n",
            "datascience 0.10.6 requires folium==0.2.1, but you have folium 0.8.3 which is incompatible.\n",
            "albumentations 0.1.12 requires imgaug<0.2.7,>=0.2.5, but you have imgaug 0.2.9 which is incompatible.\u001b[0m\n",
            "Successfully installed certifi-2021.5.30 chardet-4.0.0 cycler-0.10.0 kiwisolver-1.3.1 pyparsing-2.4.7 python-dotenv-0.19.2 requests-2.27.1 roboflow-0.2.2 urllib3-1.26.6 wget-3.2\n"
          ]
        },
        {
          "output_type": "display_data",
          "data": {
            "application/vnd.colab-display-data+json": {
              "pip_warning": {
                "packages": [
                  "certifi",
                  "chardet",
                  "cycler",
                  "kiwisolver",
                  "pyparsing",
                  "requests",
                  "urllib3"
                ]
              }
            }
          },
          "metadata": {}
        },
        {
          "output_type": "stream",
          "name": "stdout",
          "text": [
            "loading Roboflow workspace...\n",
            "loading Roboflow project...\n",
            "Downloading Dataset Version Zip in Spott-1 to yolov5pytorch: 100% [30574168 / 30574168] bytes\n"
          ]
        },
        {
          "output_type": "stream",
          "name": "stderr",
          "text": [
            "Extracting Dataset Version Zip to Spott-1 in yolov5pytorch:: 100%|██████████| 2310/2310 [00:02<00:00, 834.27it/s]\n"
          ]
        }
      ]
    },
    {
      "cell_type": "markdown",
      "source": [
        "Create config file\n"
      ],
      "metadata": {
        "id": "WvQuAEscgkrW"
      }
    },
    {
      "cell_type": "code",
      "source": [
        "import yaml\n",
        "with open(dataset.location + \"/data.yaml\", 'r') as stream:\n",
        "    num_classes = str(yaml.safe_load(stream)['nc'])\n",
        "\n",
        "#customize iPython writefile so we can write variables\n",
        "from IPython.core.magic import register_line_cell_magic\n",
        "\n",
        "@register_line_cell_magic\n",
        "def writetemplate(line, cell):\n",
        "    with open(line, 'w') as f:\n",
        "        f.write(cell.format(**globals()))"
      ],
      "metadata": {
        "id": "Is0y807acTQf"
      },
      "execution_count": null,
      "outputs": []
    },
    {
      "cell_type": "code",
      "source": [
        "%%writetemplate /content/yolov5/models/custom_yolov5s.yaml\n",
        "\n",
        "# parameters\n",
        "nc: {num_classes}  # number of classes\n",
        "depth_multiple: 0.33  # model depth multiple\n",
        "width_multiple: 0.50  # layer channel multiple\n",
        "\n",
        "# anchors\n",
        "anchors:\n",
        "  - [10,13, 16,30, 33,23]  # P3/8\n",
        "  - [30,61, 62,45, 59,119]  # P4/16\n",
        "  - [116,90, 156,198, 373,326]  # P5/32\n",
        "\n",
        "# YOLOv5 backbone\n",
        "backbone:\n",
        "  # [from, number, module, args]\n",
        "  [[-1, 1, Focus, [64, 3]],  # 0-P1/2\n",
        "   [-1, 1, Conv, [128, 3, 2]],  # 1-P2/4\n",
        "   [-1, 3, BottleneckCSP, [128]],\n",
        "   [-1, 1, Conv, [256, 3, 2]],  # 3-P3/8\n",
        "   [-1, 9, BottleneckCSP, [256]],\n",
        "   [-1, 1, Conv, [512, 3, 2]],  # 5-P4/16\n",
        "   [-1, 9, BottleneckCSP, [512]],\n",
        "   [-1, 1, Conv, [1024, 3, 2]],  # 7-P5/32\n",
        "   [-1, 1, SPP, [1024, [5, 9, 13]]],\n",
        "   [-1, 3, BottleneckCSP, [1024, False]],  # 9\n",
        "  ]\n",
        "\n",
        "# YOLOv5 head\n",
        "head:\n",
        "  [[-1, 1, Conv, [512, 1, 1]],\n",
        "   [-1, 1, nn.Upsample, [None, 2, 'nearest']],\n",
        "   [[-1, 6], 1, Concat, [1]],  # cat backbone P4\n",
        "   [-1, 3, BottleneckCSP, [512, False]],  # 13\n",
        "\n",
        "   [-1, 1, Conv, [256, 1, 1]],\n",
        "   [-1, 1, nn.Upsample, [None, 2, 'nearest']],\n",
        "   [[-1, 4], 1, Concat, [1]],  # cat backbone P3\n",
        "   [-1, 3, BottleneckCSP, [256, False]],  # 17 (P3/8-small)\n",
        "\n",
        "   [-1, 1, Conv, [256, 3, 2]],\n",
        "   [[-1, 14], 1, Concat, [1]],  # cat head P4\n",
        "   [-1, 3, BottleneckCSP, [512, False]],  # 20 (P4/16-medium)\n",
        "\n",
        "   [-1, 1, Conv, [512, 3, 2]],\n",
        "   [[-1, 10], 1, Concat, [1]],  # cat head P5\n",
        "   [-1, 3, BottleneckCSP, [1024, False]],  # 23 (P5/32-large)\n",
        "\n",
        "   [[17, 20, 23], 1, Detect, [nc, anchors]],  # Detect(P3, P4, P5)\n",
        "  ]"
      ],
      "metadata": {
        "id": "37Yh1qmHhP9E"
      },
      "execution_count": null,
      "outputs": []
    },
    {
      "cell_type": "markdown",
      "source": [
        "Train the model"
      ],
      "metadata": {
        "id": "i30AOUPsoW2A"
      }
    },
    {
      "cell_type": "code",
      "source": [
        "# train yolov5s on custom data for 100 epochs\n",
        "# time its performance\n",
        "%%time\n",
        "%cd /content/yolov5/\n",
        "!python train.py --img 416 --batch 16 --epochs 100 --data {dataset.location}/data.yaml --cfg ./models/custom_yolov5s.yaml --weights '' --name yolov5s_results  --cache"
      ],
      "metadata": {
        "colab": {
          "base_uri": "https://localhost:8080/"
        },
        "id": "318Kg0L9oV5P",
        "outputId": "efa893ff-f859-46f5-ce9a-a044e19bed9e"
      },
      "execution_count": null,
      "outputs": [
        {
          "output_type": "stream",
          "name": "stdout",
          "text": [
            "/content/yolov5\n",
            "\u001b[34m\u001b[1mgithub: \u001b[0m⚠️ WARNING: code is out of date by 855 commits. Use 'git pull' to update or 'git clone https://github.com/ultralytics/yolov5' to download latest.\n",
            "YOLOv5 v4.0-126-g886f1c0 torch 1.10.0+cu111 CUDA:0 (Tesla K80, 11441.1875MB)\n",
            "\n",
            "Namespace(adam=False, batch_size=16, bucket='', cache_images=True, cfg='./models/custom_yolov5s.yaml', data='/content/yolov5/Spott-1/data.yaml', device='', entity=None, epochs=100, evolve=False, exist_ok=False, global_rank=-1, hyp='data/hyp.scratch.yaml', image_weights=False, img_size=[416, 416], linear_lr=False, local_rank=-1, log_artifacts=False, log_imgs=16, multi_scale=False, name='yolov5s_results', noautoanchor=False, nosave=False, notest=False, project='runs/train', quad=False, rect=False, resume=False, save_dir='runs/train/yolov5s_results2', single_cls=False, sync_bn=False, total_batch_size=16, weights='', workers=8, world_size=1)\n",
            "\u001b[34m\u001b[1mwandb: \u001b[0mInstall Weights & Biases for YOLOv5 logging with 'pip install wandb' (recommended)\n",
            "Start Tensorboard with \"tensorboard --logdir runs/train\", view at http://localhost:6006/\n",
            "\u001b[34m\u001b[1mhyperparameters: \u001b[0mlr0=0.01, lrf=0.2, momentum=0.937, weight_decay=0.0005, warmup_epochs=3.0, warmup_momentum=0.8, warmup_bias_lr=0.1, box=0.05, cls=0.5, cls_pw=1.0, obj=1.0, obj_pw=1.0, iou_t=0.2, anchor_t=4.0, fl_gamma=0.0, hsv_h=0.015, hsv_s=0.7, hsv_v=0.4, degrees=0.0, translate=0.1, scale=0.5, shear=0.0, perspective=0.0, flipud=0.0, fliplr=0.5, mosaic=1.0, mixup=0.0\n",
            "\n",
            "                 from  n    params  module                                  arguments                     \n",
            "  0                -1  1      3520  models.common.Focus                     [3, 32, 3]                    \n",
            "  1                -1  1     18560  models.common.Conv                      [32, 64, 3, 2]                \n",
            "  2                -1  1     19904  models.common.BottleneckCSP             [64, 64, 1]                   \n",
            "  3                -1  1     73984  models.common.Conv                      [64, 128, 3, 2]               \n",
            "  4                -1  1    161152  models.common.BottleneckCSP             [128, 128, 3]                 \n",
            "  5                -1  1    295424  models.common.Conv                      [128, 256, 3, 2]              \n",
            "  6                -1  1    641792  models.common.BottleneckCSP             [256, 256, 3]                 \n",
            "  7                -1  1   1180672  models.common.Conv                      [256, 512, 3, 2]              \n",
            "  8                -1  1    656896  models.common.SPP                       [512, 512, [5, 9, 13]]        \n",
            "  9                -1  1   1248768  models.common.BottleneckCSP             [512, 512, 1, False]          \n",
            " 10                -1  1    131584  models.common.Conv                      [512, 256, 1, 1]              \n",
            " 11                -1  1         0  torch.nn.modules.upsampling.Upsample    [None, 2, 'nearest']          \n",
            " 12           [-1, 6]  1         0  models.common.Concat                    [1]                           \n",
            " 13                -1  1    378624  models.common.BottleneckCSP             [512, 256, 1, False]          \n",
            " 14                -1  1     33024  models.common.Conv                      [256, 128, 1, 1]              \n",
            " 15                -1  1         0  torch.nn.modules.upsampling.Upsample    [None, 2, 'nearest']          \n",
            " 16           [-1, 4]  1         0  models.common.Concat                    [1]                           \n",
            " 17                -1  1     95104  models.common.BottleneckCSP             [256, 128, 1, False]          \n",
            " 18                -1  1    147712  models.common.Conv                      [128, 128, 3, 2]              \n",
            " 19          [-1, 14]  1         0  models.common.Concat                    [1]                           \n",
            " 20                -1  1    313088  models.common.BottleneckCSP             [256, 256, 1, False]          \n",
            " 21                -1  1    590336  models.common.Conv                      [256, 256, 3, 2]              \n",
            " 22          [-1, 10]  1         0  models.common.Concat                    [1]                           \n",
            " 23                -1  1   1248768  models.common.BottleneckCSP             [512, 512, 1, False]          \n",
            " 24      [17, 20, 23]  1     26970  models.yolo.Detect                      [5, [[10, 13, 16, 30, 33, 23], [30, 61, 62, 45, 59, 119], [116, 90, 156, 198, 373, 326]], [128, 256, 512]]\n",
            "/usr/local/lib/python3.7/dist-packages/torch/functional.py:445: UserWarning: torch.meshgrid: in an upcoming release, it will be required to pass the indexing argument. (Triggered internally at  ../aten/src/ATen/native/TensorShape.cpp:2157.)\n",
            "  return _VF.meshgrid(tensors, **kwargs)  # type: ignore[attr-defined]\n",
            "Model Summary: 283 layers, 7265882 parameters, 7265882 gradients, 16.9 GFLOPS\n",
            "\n",
            "Scaled weight_decay = 0.0005\n",
            "Optimizer groups: 62 .bias, 70 conv.weight, 59 other\n",
            "\u001b[34m\u001b[1mtrain: \u001b[0mScanning 'Spott-1/train/labels.cache' for images and labels... 1014 found, 0 missing, 0 empty, 0 corrupted: 100% 1014/1014 [00:00<?, ?it/s]\n",
            "\u001b[34m\u001b[1mtrain: \u001b[0mCaching images (0.5GB): 100% 1014/1014 [00:02<00:00, 383.73it/s]\n",
            "\u001b[34m\u001b[1mval: \u001b[0mScanning 'Spott-1/valid/labels.cache' for images and labels... 82 found, 0 missing, 0 empty, 0 corrupted: 100% 82/82 [00:00<?, ?it/s]\n",
            "\u001b[34m\u001b[1mval: \u001b[0mCaching images (0.0GB): 100% 82/82 [00:00<00:00, 257.72it/s]\n",
            "Plotting labels... \n",
            "\n",
            "\u001b[34m\u001b[1mautoanchor: \u001b[0mAnalyzing anchors... anchors/target = 3.53, Best Possible Recall (BPR) = 1.0000\n",
            "Image sizes 416 train, 416 test\n",
            "Using 2 dataloader workers\n",
            "Logging results to runs/train/yolov5s_results2\n",
            "Starting training for 100 epochs...\n",
            "\n",
            "     Epoch   gpu_mem       box       obj       cls     total   targets  img_size\n",
            "      0/99     1.82G   0.09162   0.02535   0.04843    0.1654        16       416: 100% 64/64 [00:33<00:00,  1.90it/s]\n",
            "               Class      Images     Targets           P           R      mAP@.5  mAP@.5:.95: 100% 3/3 [00:03<00:00,  1.10s/it]\n",
            "                 all          82         102    0.000939        0.23    0.000575    9.63e-05\n",
            "\n",
            "     Epoch   gpu_mem       box       obj       cls     total   targets  img_size\n",
            "      1/99      1.9G   0.08012   0.02673   0.04538    0.1522        22       416: 100% 64/64 [00:29<00:00,  2.19it/s]\n",
            "               Class      Images     Targets           P           R      mAP@.5  mAP@.5:.95: 100% 3/3 [00:01<00:00,  2.49it/s]\n",
            "                 all          82         102     0.00108       0.283    0.000858    0.000139\n",
            "\n",
            "     Epoch   gpu_mem       box       obj       cls     total   targets  img_size\n",
            "      2/99      1.9G    0.0801   0.02606   0.04433    0.1505        21       416: 100% 64/64 [00:28<00:00,  2.22it/s]\n",
            "               Class      Images     Targets           P           R      mAP@.5  mAP@.5:.95: 100% 3/3 [00:01<00:00,  2.39it/s]\n",
            "                 all          82         102      0.0022        0.12    0.000895    0.000142\n",
            "\n",
            "     Epoch   gpu_mem       box       obj       cls     total   targets  img_size\n",
            "      3/99      1.9G   0.07744   0.02687   0.04374    0.1481        20       416: 100% 64/64 [00:28<00:00,  2.21it/s]\n",
            "               Class      Images     Targets           P           R      mAP@.5  mAP@.5:.95: 100% 3/3 [00:01<00:00,  2.43it/s]\n",
            "                 all          82         102     0.00179       0.146      0.0012    0.000191\n",
            "\n",
            "     Epoch   gpu_mem       box       obj       cls     total   targets  img_size\n",
            "      4/99      1.9G   0.07756   0.02696   0.04217    0.1467        23       416: 100% 64/64 [00:28<00:00,  2.24it/s]\n",
            "               Class      Images     Targets           P           R      mAP@.5  mAP@.5:.95: 100% 3/3 [00:01<00:00,  2.37it/s]\n",
            "                 all          82         102      0.0016       0.171     0.00104    0.000142\n",
            "\n",
            "     Epoch   gpu_mem       box       obj       cls     total   targets  img_size\n",
            "      5/99      1.9G   0.07697    0.0268   0.04234    0.1461        19       416: 100% 64/64 [00:28<00:00,  2.26it/s]\n",
            "               Class      Images     Targets           P           R      mAP@.5  mAP@.5:.95: 100% 3/3 [00:01<00:00,  2.23it/s]\n",
            "                 all          82         102     0.00321       0.325      0.0017    0.000282\n",
            "\n",
            "     Epoch   gpu_mem       box       obj       cls     total   targets  img_size\n",
            "      6/99      1.9G   0.07471   0.02687   0.04172    0.1433        14       416: 100% 64/64 [00:28<00:00,  2.26it/s]\n",
            "               Class      Images     Targets           P           R      mAP@.5  mAP@.5:.95: 100% 3/3 [00:01<00:00,  2.27it/s]\n",
            "                 all          82         102       0.205       0.123      0.0031     0.00048\n",
            "\n",
            "     Epoch   gpu_mem       box       obj       cls     total   targets  img_size\n",
            "      7/99      1.9G   0.07211   0.02869   0.04194    0.1427        22       416: 100% 64/64 [00:28<00:00,  2.27it/s]\n",
            "               Class      Images     Targets           P           R      mAP@.5  mAP@.5:.95: 100% 3/3 [00:01<00:00,  2.31it/s]\n",
            "                 all          82         102       0.213       0.249      0.0101     0.00153\n",
            "\n",
            "     Epoch   gpu_mem       box       obj       cls     total   targets  img_size\n",
            "      8/99      1.9G   0.07144   0.02794   0.04209    0.1415        17       416: 100% 64/64 [00:27<00:00,  2.29it/s]\n",
            "               Class      Images     Targets           P           R      mAP@.5  mAP@.5:.95: 100% 3/3 [00:01<00:00,  2.32it/s]\n",
            "                 all          82         102       0.207       0.139     0.00385    0.000545\n",
            "\n",
            "     Epoch   gpu_mem       box       obj       cls     total   targets  img_size\n",
            "      9/99      1.9G   0.06753   0.02841   0.04132    0.1373        23       416: 100% 64/64 [00:27<00:00,  2.29it/s]\n",
            "               Class      Images     Targets           P           R      mAP@.5  mAP@.5:.95: 100% 3/3 [00:01<00:00,  2.35it/s]\n",
            "                 all          82         102       0.428       0.205      0.0225     0.00357\n",
            "\n",
            "     Epoch   gpu_mem       box       obj       cls     total   targets  img_size\n",
            "     10/99      1.9G    0.0649   0.02893   0.04038    0.1342        19       416: 100% 64/64 [00:27<00:00,  2.30it/s]\n",
            "               Class      Images     Targets           P           R      mAP@.5  mAP@.5:.95: 100% 3/3 [00:01<00:00,  2.46it/s]\n",
            "                 all          82         102       0.211       0.181      0.0134     0.00175\n",
            "\n",
            "     Epoch   gpu_mem       box       obj       cls     total   targets  img_size\n",
            "     11/99      1.9G    0.0629   0.02954   0.03965    0.1321        29       416: 100% 64/64 [00:27<00:00,  2.30it/s]\n",
            "               Class      Images     Targets           P           R      mAP@.5  mAP@.5:.95: 100% 3/3 [00:01<00:00,  2.31it/s]\n",
            "                 all          82         102       0.234       0.381      0.0439     0.00759\n",
            "\n",
            "     Epoch   gpu_mem       box       obj       cls     total   targets  img_size\n",
            "     12/99      1.9G   0.06098   0.02806   0.03923    0.1283        15       416: 100% 64/64 [00:27<00:00,  2.29it/s]\n",
            "               Class      Images     Targets           P           R      mAP@.5  mAP@.5:.95: 100% 3/3 [00:01<00:00,  2.27it/s]\n",
            "                 all          82         102       0.411       0.155      0.0113      0.0024\n",
            "\n",
            "     Epoch   gpu_mem       box       obj       cls     total   targets  img_size\n",
            "     13/99      1.9G   0.05945   0.02839   0.03897    0.1268        17       416: 100% 64/64 [00:27<00:00,  2.30it/s]\n",
            "               Class      Images     Targets           P           R      mAP@.5  mAP@.5:.95: 100% 3/3 [00:01<00:00,  2.19it/s]\n",
            "                 all          82         102       0.222       0.204        0.02     0.00404\n",
            "\n",
            "     Epoch   gpu_mem       box       obj       cls     total   targets  img_size\n",
            "     14/99      1.9G   0.06027   0.02812   0.03832    0.1267        21       416: 100% 64/64 [00:27<00:00,  2.30it/s]\n",
            "               Class      Images     Targets           P           R      mAP@.5  mAP@.5:.95: 100% 3/3 [00:01<00:00,  2.18it/s]\n",
            "                 all          82         102       0.207       0.201     0.00672     0.00103\n",
            "\n",
            "     Epoch   gpu_mem       box       obj       cls     total   targets  img_size\n",
            "     15/99      1.9G   0.05907   0.02738   0.03675    0.1232        13       416: 100% 64/64 [00:27<00:00,  2.30it/s]\n",
            "               Class      Images     Targets           P           R      mAP@.5  mAP@.5:.95: 100% 3/3 [00:01<00:00,  2.54it/s]\n",
            "                 all          82         102       0.271       0.234      0.0504     0.00872\n",
            "\n",
            "     Epoch   gpu_mem       box       obj       cls     total   targets  img_size\n",
            "     16/99      1.9G   0.05872    0.0278   0.03782    0.1243        23       416: 100% 64/64 [00:27<00:00,  2.30it/s]\n",
            "               Class      Images     Targets           P           R      mAP@.5  mAP@.5:.95: 100% 3/3 [00:01<00:00,  2.29it/s]\n",
            "                 all          82         102       0.683        0.09      0.0887      0.0225\n",
            "\n",
            "     Epoch   gpu_mem       box       obj       cls     total   targets  img_size\n",
            "     17/99      1.9G   0.05576    0.0266    0.0363    0.1187        27       416: 100% 64/64 [00:27<00:00,  2.31it/s]\n",
            "               Class      Images     Targets           P           R      mAP@.5  mAP@.5:.95: 100% 3/3 [00:01<00:00,  2.36it/s]\n",
            "                 all          82         102       0.241       0.392      0.0611      0.0227\n",
            "\n",
            "     Epoch   gpu_mem       box       obj       cls     total   targets  img_size\n",
            "     18/99      1.9G   0.05819   0.02709   0.03517    0.1205        28       416: 100% 64/64 [00:27<00:00,  2.30it/s]\n",
            "               Class      Images     Targets           P           R      mAP@.5  mAP@.5:.95: 100% 3/3 [00:01<00:00,  2.49it/s]\n",
            "                 all          82         102       0.831       0.165       0.207      0.0563\n",
            "\n",
            "     Epoch   gpu_mem       box       obj       cls     total   targets  img_size\n",
            "     19/99      1.9G   0.05564   0.02571   0.03432    0.1157        24       416: 100% 64/64 [00:27<00:00,  2.31it/s]\n",
            "               Class      Images     Targets           P           R      mAP@.5  mAP@.5:.95: 100% 3/3 [00:01<00:00,  2.58it/s]\n",
            "                 all          82         102       0.542       0.102      0.0565      0.0141\n",
            "\n",
            "     Epoch   gpu_mem       box       obj       cls     total   targets  img_size\n",
            "     20/99      1.9G   0.05374   0.02534   0.03341    0.1125        24       416: 100% 64/64 [00:27<00:00,  2.30it/s]\n",
            "               Class      Images     Targets           P           R      mAP@.5  mAP@.5:.95: 100% 3/3 [00:01<00:00,  2.58it/s]\n",
            "                 all          82         102       0.634       0.206       0.124      0.0254\n",
            "\n",
            "     Epoch   gpu_mem       box       obj       cls     total   targets  img_size\n",
            "     21/99      1.9G   0.05318    0.0242   0.03343    0.1108        17       416: 100% 64/64 [00:27<00:00,  2.31it/s]\n",
            "               Class      Images     Targets           P           R      mAP@.5  mAP@.5:.95: 100% 3/3 [00:01<00:00,  2.57it/s]\n",
            "                 all          82         102       0.584       0.199       0.154       0.044\n",
            "\n",
            "     Epoch   gpu_mem       box       obj       cls     total   targets  img_size\n",
            "     22/99      1.9G   0.05142   0.02408    0.0333    0.1088        21       416: 100% 64/64 [00:27<00:00,  2.30it/s]\n",
            "               Class      Images     Targets           P           R      mAP@.5  mAP@.5:.95: 100% 3/3 [00:01<00:00,  2.58it/s]\n",
            "                 all          82         102       0.586       0.236       0.158      0.0418\n",
            "\n",
            "     Epoch   gpu_mem       box       obj       cls     total   targets  img_size\n",
            "     23/99      1.9G   0.05221   0.02415   0.03373    0.1101        22       416: 100% 64/64 [00:27<00:00,  2.31it/s]\n",
            "               Class      Images     Targets           P           R      mAP@.5  mAP@.5:.95: 100% 3/3 [00:01<00:00,  2.64it/s]\n",
            "                 all          82         102       0.567       0.212       0.194      0.0463\n",
            "\n",
            "     Epoch   gpu_mem       box       obj       cls     total   targets  img_size\n",
            "     24/99      1.9G   0.04953   0.02299   0.03194    0.1045        25       416: 100% 64/64 [00:27<00:00,  2.31it/s]\n",
            "               Class      Images     Targets           P           R      mAP@.5  mAP@.5:.95: 100% 3/3 [00:01<00:00,  2.60it/s]\n",
            "                 all          82         102      0.0804       0.367       0.116      0.0331\n",
            "\n",
            "     Epoch   gpu_mem       box       obj       cls     total   targets  img_size\n",
            "     25/99      1.9G   0.04737   0.02313   0.03181    0.1023        15       416: 100% 64/64 [00:27<00:00,  2.29it/s]\n",
            "               Class      Images     Targets           P           R      mAP@.5  mAP@.5:.95: 100% 3/3 [00:01<00:00,  2.65it/s]\n",
            "                 all          82         102       0.601       0.197       0.183      0.0486\n",
            "\n",
            "     Epoch   gpu_mem       box       obj       cls     total   targets  img_size\n",
            "     26/99      1.9G   0.04835   0.02288   0.03224    0.1035        28       416: 100% 64/64 [00:27<00:00,  2.30it/s]\n",
            "               Class      Images     Targets           P           R      mAP@.5  mAP@.5:.95: 100% 3/3 [00:01<00:00,  2.73it/s]\n",
            "                 all          82         102       0.381       0.274       0.185      0.0548\n",
            "\n",
            "     Epoch   gpu_mem       box       obj       cls     total   targets  img_size\n",
            "     27/99      1.9G   0.04943   0.02347   0.03122    0.1041        22       416: 100% 64/64 [00:27<00:00,  2.30it/s]\n",
            "               Class      Images     Targets           P           R      mAP@.5  mAP@.5:.95: 100% 3/3 [00:01<00:00,  2.66it/s]\n",
            "                 all          82         102       0.299       0.215       0.146       0.043\n",
            "\n",
            "     Epoch   gpu_mem       box       obj       cls     total   targets  img_size\n",
            "     28/99      1.9G    0.0468   0.02289   0.03046    0.1001        23       416: 100% 64/64 [00:27<00:00,  2.31it/s]\n",
            "               Class      Images     Targets           P           R      mAP@.5  mAP@.5:.95: 100% 3/3 [00:01<00:00,  2.69it/s]\n",
            "                 all          82         102       0.538       0.199       0.157      0.0574\n",
            "\n",
            "     Epoch   gpu_mem       box       obj       cls     total   targets  img_size\n",
            "     29/99      1.9G   0.04575   0.02302   0.02999   0.09876        16       416: 100% 64/64 [00:27<00:00,  2.31it/s]\n",
            "               Class      Images     Targets           P           R      mAP@.5  mAP@.5:.95: 100% 3/3 [00:01<00:00,  2.73it/s]\n",
            "                 all          82         102       0.541       0.211       0.184        0.05\n",
            "\n",
            "     Epoch   gpu_mem       box       obj       cls     total   targets  img_size\n",
            "     30/99      1.9G   0.04632   0.02231   0.02968   0.09831        21       416: 100% 64/64 [00:27<00:00,  2.30it/s]\n",
            "               Class      Images     Targets           P           R      mAP@.5  mAP@.5:.95: 100% 3/3 [00:01<00:00,  2.70it/s]\n",
            "                 all          82         102        0.58       0.245        0.22      0.0621\n",
            "\n",
            "     Epoch   gpu_mem       box       obj       cls     total   targets  img_size\n",
            "     31/99      1.9G   0.04543   0.02213   0.02962   0.09719        22       416: 100% 64/64 [00:27<00:00,  2.30it/s]\n",
            "               Class      Images     Targets           P           R      mAP@.5  mAP@.5:.95: 100% 3/3 [00:01<00:00,  2.62it/s]\n",
            "                 all          82         102       0.565       0.234       0.183      0.0638\n",
            "\n",
            "     Epoch   gpu_mem       box       obj       cls     total   targets  img_size\n",
            "     32/99      1.9G   0.04554   0.02127     0.029   0.09581        21       416: 100% 64/64 [00:27<00:00,  2.31it/s]\n",
            "               Class      Images     Targets           P           R      mAP@.5  mAP@.5:.95: 100% 3/3 [00:01<00:00,  2.72it/s]\n",
            "                 all          82         102         0.3       0.225       0.142      0.0395\n",
            "\n",
            "     Epoch   gpu_mem       box       obj       cls     total   targets  img_size\n",
            "     33/99      1.9G   0.04431   0.02179   0.02776   0.09386        19       416: 100% 64/64 [00:27<00:00,  2.30it/s]\n",
            "               Class      Images     Targets           P           R      mAP@.5  mAP@.5:.95: 100% 3/3 [00:01<00:00,  2.71it/s]\n",
            "                 all          82         102       0.578       0.095       0.101      0.0326\n",
            "\n",
            "     Epoch   gpu_mem       box       obj       cls     total   targets  img_size\n",
            "     34/99      1.9G   0.04307   0.02134    0.0276   0.09201        18       416: 100% 64/64 [00:27<00:00,  2.30it/s]\n",
            "               Class      Images     Targets           P           R      mAP@.5  mAP@.5:.95: 100% 3/3 [00:01<00:00,  2.74it/s]\n",
            "                 all          82         102        0.29        0.26       0.158      0.0646\n",
            "\n",
            "     Epoch   gpu_mem       box       obj       cls     total   targets  img_size\n",
            "     35/99      1.9G   0.04313    0.0213   0.02819   0.09262        20       416: 100% 64/64 [00:27<00:00,  2.31it/s]\n",
            "               Class      Images     Targets           P           R      mAP@.5  mAP@.5:.95: 100% 3/3 [00:01<00:00,  2.66it/s]\n",
            "                 all          82         102       0.783       0.131       0.164      0.0638\n",
            "\n",
            "     Epoch   gpu_mem       box       obj       cls     total   targets  img_size\n",
            "     36/99      1.9G   0.04237   0.02118   0.02753   0.09108        17       416: 100% 64/64 [00:27<00:00,  2.30it/s]\n",
            "               Class      Images     Targets           P           R      mAP@.5  mAP@.5:.95: 100% 3/3 [00:01<00:00,  2.81it/s]\n",
            "                 all          82         102       0.354       0.221       0.184       0.066\n",
            "\n",
            "     Epoch   gpu_mem       box       obj       cls     total   targets  img_size\n",
            "     37/99      1.9G   0.04237   0.02148   0.02677   0.09062        21       416: 100% 64/64 [00:27<00:00,  2.29it/s]\n",
            "               Class      Images     Targets           P           R      mAP@.5  mAP@.5:.95: 100% 3/3 [00:01<00:00,  2.70it/s]\n",
            "                 all          82         102       0.618       0.205        0.22      0.0807\n",
            "\n",
            "     Epoch   gpu_mem       box       obj       cls     total   targets  img_size\n",
            "     38/99      1.9G    0.0407   0.02021    0.0272   0.08811        48       416:  61% 39/64 [00:17<00:10,  2.29it/s]"
          ]
        }
      ]
    },
    {
      "cell_type": "code",
      "source": [
        "!pip install tensorboardcolab"
      ],
      "metadata": {
        "id": "TNnv0kpOso-B"
      },
      "execution_count": null,
      "outputs": []
    },
    {
      "cell_type": "code",
      "source": [
        "%load_ext tensorboard\n",
        "%tensorboard --logdir=runs/train"
      ],
      "metadata": {
        "id": "-3LItsUfsgrD"
      },
      "execution_count": null,
      "outputs": []
    }
  ]
}